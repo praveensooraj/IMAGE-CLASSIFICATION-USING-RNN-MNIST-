{
  "nbformat": 4,
  "nbformat_minor": 0,
  "metadata": {
    "colab": {
      "provenance": []
    },
    "kernelspec": {
      "name": "python3",
      "display_name": "Python 3"
    },
    "language_info": {
      "name": "python"
    }
  },
  "cells": [
    {
      "cell_type": "code",
      "execution_count": null,
      "metadata": {
        "id": "Q6BxCDeqdtuO"
      },
      "outputs": [],
      "source": [
        "import tensorflow as tf\n",
        "from tensorflow.keras.layers import Input,LSTM,Dense\n",
        "from tensorflow.keras.models import Model\n",
        "from tensorflow.keras.datasets import mnist\n",
        "from tensorflow.keras.utils import to_categorical\n"
      ]
    },
    {
      "cell_type": "code",
      "source": [
        "(x_train,y_train),(x_test,y_test)=mnist.load_data()\n",
        "x_train,x_test=x_train/255.0,x_test/255.0\n",
        "\n",
        "y_train= to_categorical(y_train)\n",
        "y_test = to_categorical(y_test)"
      ],
      "metadata": {
        "id": "yRQMHLB-eK0t"
      },
      "execution_count": null,
      "outputs": []
    },
    {
      "cell_type": "code",
      "source": [
        "input_shape=(28,28)\n",
        "inputs = Input(shape=input_shape)\n",
        "rnn_layer = LSTM(128)(inputs)\n",
        "outputs = Dense(10,activation='softmax')(rnn_layer)\n",
        "model=Model(inputs=inputs,outputs=outputs)"
      ],
      "metadata": {
        "id": "4OVcBVFif7T1"
      },
      "execution_count": null,
      "outputs": []
    },
    {
      "cell_type": "code",
      "source": [
        "model.compile(optimizer='adam',\n",
        "             loss='categorical_crossentropy',\n",
        "             metrics=['accuracy'])"
      ],
      "metadata": {
        "id": "WWPaGMB7gihJ"
      },
      "execution_count": null,
      "outputs": []
    },
    {
      "cell_type": "code",
      "source": [
        "history=model.fit(x_train,y_train,epochs=5,batch_size=64,validation_split=0.2)"
      ],
      "metadata": {
        "colab": {
          "base_uri": "https://localhost:8080/"
        },
        "id": "Vdc7_jp0g8Iv",
        "outputId": "d603ec9c-ff10-4a5e-ddf0-d1f821f839bb"
      },
      "execution_count": null,
      "outputs": [
        {
          "output_type": "stream",
          "name": "stdout",
          "text": [
            "Epoch 1/5\n",
            "750/750 [==============================] - 45s 58ms/step - loss: 0.4825 - accuracy: 0.8435 - val_loss: 0.1606 - val_accuracy: 0.9508\n",
            "Epoch 2/5\n",
            "750/750 [==============================] - 45s 60ms/step - loss: 0.1418 - accuracy: 0.9563 - val_loss: 0.1273 - val_accuracy: 0.9613\n",
            "Epoch 3/5\n",
            "750/750 [==============================] - 43s 58ms/step - loss: 0.0966 - accuracy: 0.9703 - val_loss: 0.0907 - val_accuracy: 0.9730\n",
            "Epoch 4/5\n",
            "750/750 [==============================] - 44s 59ms/step - loss: 0.0748 - accuracy: 0.9772 - val_loss: 0.0767 - val_accuracy: 0.9772\n",
            "Epoch 5/5\n",
            "750/750 [==============================] - 44s 58ms/step - loss: 0.0584 - accuracy: 0.9816 - val_loss: 0.0587 - val_accuracy: 0.9827\n"
          ]
        }
      ]
    },
    {
      "cell_type": "code",
      "source": [
        "y_pred=model.predict(x_test)\n",
        "y_pred"
      ],
      "metadata": {
        "colab": {
          "base_uri": "https://localhost:8080/"
        },
        "id": "MSQ_B-zzib_M",
        "outputId": "31c6be85-83bd-4a0f-cfb4-90e2a7beca49"
      },
      "execution_count": null,
      "outputs": [
        {
          "output_type": "stream",
          "name": "stdout",
          "text": [
            "313/313 [==============================] - 7s 20ms/step\n"
          ]
        },
        {
          "output_type": "execute_result",
          "data": {
            "text/plain": [
              "array([[4.2196257e-06, 9.0165471e-05, 1.7876751e-04, ..., 9.9957067e-01,\n",
              "        9.6452786e-06, 3.8963113e-05],\n",
              "       [2.3679283e-06, 2.8230645e-05, 9.9990648e-01, ..., 1.3676012e-05,\n",
              "        2.8738043e-05, 1.8929150e-07],\n",
              "       [4.5215634e-06, 9.9939477e-01, 4.0737053e-05, ..., 1.2265667e-04,\n",
              "        2.2826358e-04, 3.4929155e-05],\n",
              "       ...,\n",
              "       [1.2919935e-04, 4.5062614e-05, 1.1721193e-04, ..., 2.1254660e-04,\n",
              "        4.3578178e-04, 1.6780132e-04],\n",
              "       [1.1286878e-04, 6.0015373e-05, 1.0822229e-05, ..., 1.0370622e-05,\n",
              "        1.0510474e-03, 9.1945360e-05],\n",
              "       [1.9522393e-04, 9.2108567e-06, 4.3643631e-05, ..., 8.1938475e-07,\n",
              "        6.5971668e-05, 8.6366686e-07]], dtype=float32)"
            ]
          },
          "metadata": {},
          "execution_count": 50
        }
      ]
    },
    {
      "cell_type": "code",
      "source": [
        "import matplotlib.pyplot as plt\n",
        "plt.plot(history.history['accuracy'])\n",
        "plt.plot(history.history['val_accuracy'])"
      ],
      "metadata": {
        "colab": {
          "base_uri": "https://localhost:8080/",
          "height": 447
        },
        "id": "4OBOWWY1k_u2",
        "outputId": "124748a5-44b2-4952-c131-cc866a53768f"
      },
      "execution_count": null,
      "outputs": [
        {
          "output_type": "execute_result",
          "data": {
            "text/plain": [
              "[<matplotlib.lines.Line2D at 0x78705cfecbe0>]"
            ]
          },
          "metadata": {},
          "execution_count": 60
        },
        {
          "output_type": "display_data",
          "data": {
            "text/plain": [
              "<Figure size 640x480 with 1 Axes>"
            ],
            "image/png": "[encoded data removed]"
          },
          "metadata": {}
        }
      ]
    },
    {
      "cell_type": "code",
      "source": [],
      "metadata": {
        "id": "Azulx2HMmJew"
      },
      "execution_count": null,
      "outputs": []
    }
  ]
}